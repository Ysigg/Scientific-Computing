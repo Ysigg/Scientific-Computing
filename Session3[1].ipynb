{
  "nbformat": 4,
  "nbformat_minor": 0,
  "metadata": {
    "colab": {
      "provenance": [],
      "authorship_tag": "ABX9TyMotZDHnDdBPLyA9B/WY5vl",
      "include_colab_link": true
    },
    "kernelspec": {
      "name": "python3",
      "display_name": "Python 3"
    },
    "language_info": {
      "name": "python"
    }
  },
  "cells": [
    {
      "cell_type": "markdown",
      "metadata": {
        "id": "view-in-github",
        "colab_type": "text"
      },
      "source": [
        "<a href=\"https://colab.research.google.com/github/Ysigg/Scientific-Computing/blob/main/Session3%5B1%5D.ipynb\" target=\"_parent\"><img src=\"https://colab.research.google.com/assets/colab-badge.svg\" alt=\"Open In Colab\"/></a>"
      ]
    },
    {
      "cell_type": "code",
      "execution_count": 6,
      "metadata": {
        "colab": {
          "base_uri": "https://localhost:8080/"
        },
        "id": "X5xb6mG3tMJH",
        "outputId": "9c4f1204-643e-41ee-af22-3d7602be78f5"
      },
      "outputs": [
        {
          "output_type": "stream",
          "name": "stdout",
          "text": [
            "Eigenvalue: 3.999949137887188\n",
            "Eigenvector: [0.50000636 1.        ]\n"
          ]
        }
      ],
      "source": [
        "# Nama : Naufal Arif\n",
        "# LC20 - Computer Science\n",
        "\n",
        "import numpy as np\n",
        "def normalize(x):\n",
        "  fac = abs(x).max()\n",
        "  x_n = x / x.max()\n",
        "  return fac, x_n\n",
        "x = np.array([1, 1])\n",
        "a = np.array([[0, 2],\n",
        "              [2, 3]])\n",
        "\n",
        "for i in range(8):\n",
        "  x = np.dot(a, x)\n",
        "  lambda_1, x = normalize(x)\n",
        "\n",
        "print('Eigenvalue:', lambda_1)\n",
        "print('Eigenvector:', x)"
      ]
    },
    {
      "cell_type": "code",
      "source": [
        "from numpy.linalg import inv\n",
        "a_inv = inv(a)\n",
        "\n",
        "for i in range(8):\n",
        "  x = np.dot(a_inv, x)\n",
        "  lambda_1, x = normalize(x)\n",
        "\n",
        "print('Eigenvalue:', lambda_1)\n",
        "print('Eigenvector:', x) "
      ],
      "metadata": {
        "colab": {
          "base_uri": "https://localhost:8080/"
        },
        "id": "lG3td_8ny8Vu",
        "outputId": "84f77ca0-b1c7-47e6-b643-778d7e7d631a"
      },
      "execution_count": 8,
      "outputs": [
        {
          "output_type": "stream",
          "name": "stdout",
          "text": [
            "Eigenvalue: 0.20000000000024853\n",
            "Eigenvector: [1. 1.]\n"
          ]
        }
      ]
    }
  ]
}