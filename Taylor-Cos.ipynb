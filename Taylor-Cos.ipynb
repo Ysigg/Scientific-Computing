{
  "nbformat": 4,
  "nbformat_minor": 0,
  "metadata": {
    "colab": {
      "provenance": [],
      "authorship_tag": "ABX9TyM8m+tgZSRWCYHvLc96sF1f",
      "include_colab_link": true
    },
    "kernelspec": {
      "name": "python3",
      "display_name": "Python 3"
    },
    "language_info": {
      "name": "python"
    }
  },
  "cells": [
    {
      "cell_type": "markdown",
      "metadata": {
        "id": "view-in-github",
        "colab_type": "text"
      },
      "source": [
        "<a href=\"https://colab.research.google.com/github/Ysigg/Scientific-Computing/blob/main/Taylor-Cos.ipynb\" target=\"_parent\"><img src=\"https://colab.research.google.com/assets/colab-badge.svg\" alt=\"Open In Colab\"/></a>"
      ]
    },
    {
      "cell_type": "code",
      "execution_count": 4,
      "metadata": {
        "colab": {
          "base_uri": "https://localhost:8080/"
        },
        "id": "OnOuqClA4FX-",
        "outputId": "d90b3469-3958-454c-ab7e-9f82e0875d2c"
      },
      "outputs": [
        {
          "output_type": "stream",
          "name": "stdout",
          "text": [
            "The fourth order Taylor expansion of cos(0.5) is approximately: 0.8775824652777777\n"
          ]
        }
      ],
      "source": [
        "import math\n",
        "\n",
        "def taylor_cos(x, n):\n",
        "    result = 0\n",
        "    sign = 1\n",
        "    for i in range(n):\n",
        "        term = sign * (x**(2*i)) / math.factorial(2*i)\n",
        "        result += term\n",
        "        sign *= -1\n",
        "    return result\n",
        "\n",
        "# Contoh penggunaan\n",
        "x = 0.5\n",
        "n = 4\n",
        "cos_approximation = taylor_cos(x, n)\n",
        "print(f\"The fourth order Taylor expansion of cos({x}) is approximately: {cos_approximation}\")\n"
      ]
    }
  ]
}