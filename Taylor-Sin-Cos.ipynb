{
  "nbformat": 4,
  "nbformat_minor": 0,
  "metadata": {
    "colab": {
      "provenance": [],
      "authorship_tag": "ABX9TyMkDz04gKYHk81d/NRZrj/2",
      "include_colab_link": true
    },
    "kernelspec": {
      "name": "python3",
      "display_name": "Python 3"
    },
    "language_info": {
      "name": "python"
    }
  },
  "cells": [
    {
      "cell_type": "markdown",
      "metadata": {
        "id": "view-in-github",
        "colab_type": "text"
      },
      "source": [
        "<a href=\"https://colab.research.google.com/github/Ysigg/Scientific-Computing/blob/main/Taylor-Sin-Cos.ipynb\" target=\"_parent\"><img src=\"https://colab.research.google.com/assets/colab-badge.svg\" alt=\"Open In Colab\"/></a>"
      ]
    },
    {
      "cell_type": "code",
      "execution_count": 5,
      "metadata": {
        "colab": {
          "base_uri": "https://localhost:8080/"
        },
        "id": "OnOuqClA4FX-",
        "outputId": "52f8fc80-8d7c-453b-9184-d05894d210b8"
      },
      "outputs": [
        {
          "output_type": "stream",
          "name": "stdout",
          "text": [
            "The fourth order Taylor expansion of sin(0.5)*cos(0.5) is approximately: 0.479425533234127\n"
          ]
        }
      ],
      "source": [
        "import math\n",
        "\n",
        "def taylor_sincos(x, n):\n",
        "    result = 0\n",
        "    sign = 1\n",
        "    for i in range(n):\n",
        "        term = sign * (x**((2*i)+1)) / math.factorial((2*i)+1)\n",
        "        result += term\n",
        "        sign *= -1\n",
        "    return result\n",
        "\n",
        "# Contoh penggunaan\n",
        "x = 0.5\n",
        "n = 4\n",
        "sincos_approximation = taylor_sincos(x, n)\n",
        "print(f\"The fourth order Taylor expansion of sin({x})*cos({x}) is approximately: {sincos_approximation}\")\n"
      ]
    }
  ]
}