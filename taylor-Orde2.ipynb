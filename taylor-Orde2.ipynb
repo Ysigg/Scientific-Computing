{
  "nbformat": 4,
  "nbformat_minor": 0,
  "metadata": {
    "colab": {
      "provenance": [],
      "authorship_tag": "ABX9TyMeB7LA7HyM65Lat4Ov7zsF",
      "include_colab_link": true
    },
    "kernelspec": {
      "name": "python3",
      "display_name": "Python 3"
    },
    "language_info": {
      "name": "python"
    }
  },
  "cells": [
    {
      "cell_type": "markdown",
      "metadata": {
        "id": "view-in-github",
        "colab_type": "text"
      },
      "source": [
        "<a href=\"https://colab.research.google.com/github/Ysigg/Scientific-Computing/blob/main/taylor-Orde2.ipynb\" target=\"_parent\"><img src=\"https://colab.research.google.com/assets/colab-badge.svg\" alt=\"Open In Colab\"/></a>"
      ]
    },
    {
      "cell_type": "code",
      "execution_count": 2,
      "metadata": {
        "colab": {
          "base_uri": "https://localhost:8080/"
        },
        "id": "Vub2fgGH8-sr",
        "outputId": "7f849715-cef0-43bd-d636-77bf37a06646"
      },
      "outputs": [
        {
          "output_type": "stream",
          "name": "stdout",
          "text": [
            "Value of y(0.2) = 1.24205\n"
          ]
        }
      ],
      "source": [
        "import numpy as np\n",
        "\n",
        "x0 = 0\n",
        "y0 = 1\n",
        "h = 0.1\n",
        "target_x = 0.2\n",
        "\n",
        "def taylor_order_2(x0, y0, h, target_x):\n",
        "    x = x0\n",
        "    y = y0\n",
        "\n",
        "    while x < target_x:\n",
        "        y_prime = y + x\n",
        "        y_double_prime = y_prime + 1\n",
        "\n",
        "        y += h * y_prime + (h**2 / 2) * y_double_prime\n",
        "        x += h\n",
        "\n",
        "    return y\n",
        "\n",
        "\n",
        "\n",
        "result = taylor_order_2(x0, y0, h, target_x)\n",
        "print(f\"Value of y({target_x}) = {result}\")\n"
      ]
    }
  ]
}