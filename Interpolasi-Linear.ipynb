{
  "nbformat": 4,
  "nbformat_minor": 0,
  "metadata": {
    "colab": {
      "provenance": [],
      "authorship_tag": "ABX9TyNMEzJYsRKmcVFsNsz5oVpn",
      "include_colab_link": true
    },
    "kernelspec": {
      "name": "python3",
      "display_name": "Python 3"
    },
    "language_info": {
      "name": "python"
    }
  },
  "cells": [
    {
      "cell_type": "markdown",
      "metadata": {
        "id": "view-in-github",
        "colab_type": "text"
      },
      "source": [
        "<a href=\"https://colab.research.google.com/github/Ysigg/Scientific-Computing/blob/main/Interpolasi-Linear.ipynb\" target=\"_parent\"><img src=\"https://colab.research.google.com/assets/colab-badge.svg\" alt=\"Open In Colab\"/></a>"
      ]
    },
    {
      "cell_type": "code",
      "execution_count": 5,
      "metadata": {
        "colab": {
          "base_uri": "https://localhost:8080/"
        },
        "id": "Br_H46_2S5Tn",
        "outputId": "deae2d34-ddd1-40c1-c141-87203dd65acf"
      },
      "outputs": [
        {
          "output_type": "stream",
          "name": "stdout",
          "text": [
            "Interpolasi Linier (Tahun Genap): [14.2411, 14.0342, 14.2696, 14.197, 14.3055, 14.1853, 14.3577, 14.4187, 14.3438]\n"
          ]
        }
      ],
      "source": [
        "# Data yang diberikan\n",
        "years_odd = [1981, 1983, 1985, 1987, 1989, 1991, 1993, 1995, 1997, 1999]\n",
        "temperatures_odd = [14.1999, 14.2411, 14.0342, 14.2696, 14.197, 14.3055, 14.1853, 14.3577, 14.4187, 14.3438]\n",
        "\n",
        "# Interpolasi linier untuk tahun genap\n",
        "years_even = [1982, 1984, 1986, 1988, 1990, 1992, 1994, 1996, 1998]\n",
        "temperatures_even_linear = []\n",
        "\n",
        "for year in years_even:\n",
        "    index = years_odd.index(year-1)\n",
        "    temperature = temperatures_odd[index] + (temperatures_odd[index+1] - temperatures_odd[index])\n",
        "    temperatures_even_linear.append(temperature)\n",
        "\n",
        "print(\"Interpolasi Linier (Tahun Genap):\", temperatures_even_linear)\n"
      ]
    },
    {
      "cell_type": "code",
      "source": [
        "import numpy as np\n",
        "\n",
        "# Data yang diberikan\n",
        "years_odd = ([1981, 1983, 1985, 1987, 1989, 1991, 1993, 1995, 1997, 1999])\n",
        "years_even = ([1982, 1984, 1986, 1988, 1990, 1992, 1994, 1996, 1998])\n",
        "temperatures_odd =([14.1999, 14.2411, 14.0342, 14.2696, 14.197, 14.3055, 14.1853, 14.3577, 14.4187, 14.3438])\n",
        "\n",
        "# Regresi kuadratik\n",
        "coefficients = np.polyfit(years_odd, temperatures_odd, 2)\n",
        "temperatures_even_quadratic = np.polyval(coefficients, years_even)\n",
        "\n",
        "print(\"Interpolasi Kuadratik (Tahun Genap):\", temperatures_even_quadratic)\n"
      ],
      "metadata": {
        "colab": {
          "base_uri": "https://localhost:8080/"
        },
        "id": "gnl5iPVEXXMN",
        "outputId": "e6fad64b-b671-4ef2-fe2b-33913b031277"
      },
      "execution_count": 8,
      "outputs": [
        {
          "output_type": "stream",
          "name": "stdout",
          "text": [
            "Interpolasi Kuadratik (Tahun Genap): [14.181965   14.18466136 14.19353348 14.20858136 14.229805   14.25720439\n",
            " 14.29077955 14.33053045 14.37645712]\n"
          ]
        }
      ]
    }
  ]
}