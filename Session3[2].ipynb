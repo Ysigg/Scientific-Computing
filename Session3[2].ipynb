{
  "nbformat": 4,
  "nbformat_minor": 0,
  "metadata": {
    "colab": {
      "provenance": [],
      "authorship_tag": "ABX9TyNgGpLhCn7aDiJacpp/88pV",
      "include_colab_link": true
    },
    "kernelspec": {
      "name": "python3",
      "display_name": "Python 3"
    },
    "language_info": {
      "name": "python"
    }
  },
  "cells": [
    {
      "cell_type": "markdown",
      "metadata": {
        "id": "view-in-github",
        "colab_type": "text"
      },
      "source": [
        "<a href=\"https://colab.research.google.com/github/Ysigg/Scientific-Computing/blob/main/Session3%5B2%5D.ipynb\" target=\"_parent\"><img src=\"https://colab.research.google.com/assets/colab-badge.svg\" alt=\"Open In Colab\"/></a>"
      ]
    },
    {
      "cell_type": "code",
      "execution_count": 2,
      "metadata": {
        "colab": {
          "base_uri": "https://localhost:8080/"
        },
        "id": "j6rJqlAUBhQK",
        "outputId": "80c1b5bd-af7a-4e4c-820d-61d400cabf51"
      },
      "outputs": [
        {
          "output_type": "stream",
          "name": "stdout",
          "text": [
            "E-value: [-1.  4.]\n",
            "E-vector: [[-0.89442719 -0.4472136 ]\n",
            " [ 0.4472136  -0.89442719]]\n"
          ]
        }
      ],
      "source": [
        "# Nama : Naufal Arif\n",
        "# LC20 - Computer Science\n",
        "\n",
        "import numpy as np\n",
        "from numpy.linalg import eig\n",
        "a = np.array([[0, 2],\n",
        "              [2, 3]])\n",
        "w, v = eig(a)\n",
        "print('E-value:', w)\n",
        "print('E-vector:', v)"
      ]
    },
    {
      "cell_type": "code",
      "source": [],
      "metadata": {
        "id": "egHJC5KqCW-Z"
      },
      "execution_count": null,
      "outputs": []
    }
  ]
}