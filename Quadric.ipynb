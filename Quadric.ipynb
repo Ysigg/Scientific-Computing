{
  "nbformat": 4,
  "nbformat_minor": 0,
  "metadata": {
    "colab": {
      "provenance": [],
      "authorship_tag": "ABX9TyPGjIyj9yo/pGmzFiGw3Kv+",
      "include_colab_link": true
    },
    "kernelspec": {
      "name": "python3",
      "display_name": "Python 3"
    },
    "language_info": {
      "name": "python"
    }
  },
  "cells": [
    {
      "cell_type": "markdown",
      "metadata": {
        "id": "view-in-github",
        "colab_type": "text"
      },
      "source": [
        "<a href=\"https://colab.research.google.com/github/Ysigg/Scientific-Computing/blob/main/Quadric.ipynb\" target=\"_parent\"><img src=\"https://colab.research.google.com/assets/colab-badge.svg\" alt=\"Open In Colab\"/></a>"
      ]
    },
    {
      "cell_type": "code",
      "execution_count": 2,
      "metadata": {
        "colab": {
          "base_uri": "https://localhost:8080/"
        },
        "id": "HCR2llHL4klz",
        "outputId": "d356fded-dc7b-4b00-96da-6709d028f64f"
      },
      "outputs": [
        {
          "output_type": "stream",
          "name": "stdout",
          "text": [
            "Interpolasi Linear (suhu tahun genap): [14.118715 14.177585 14.236455 14.295325 14.354195]\n",
            "Interpolasi Kuadratik (suhu tahun genap): [14.1298525 14.0996225 14.1584925 14.3064625 14.5435325]\n",
            "Interpolasi Kubik (suhu tahun genap): [14.11786375 14.08867625 14.16943875 14.31845125 14.49401375]\n"
          ]
        }
      ],
      "source": [
        "import numpy as np\n",
        "\n",
        "# Data tahun dan suhu\n",
        "years = np.array([1981, 1983, 1985, 1987, 1989, 1991, 1993, 1995, 1997, 1999])\n",
        "temperatures = np.array([14.1999, 14.2411, 14.0342, 14.2696, 14.197, 14.3055, 14.1853, 14.3577, 14.4187, 14.3438])\n",
        "\n",
        "# Interpolasi linear\n",
        "linear_coeffs = np.polyfit(years[::2], temperatures[::2], 1)\n",
        "linear_interpolation = np.polyval(linear_coeffs, years)\n",
        "linear_interpolation_even_years = np.polyval(linear_coeffs, years[1::2])\n",
        "\n",
        "# Interpolasi kuadratik\n",
        "quadratic_coeffs = np.polyfit(years[::2], temperatures[::2], 2)\n",
        "quadratic_interpolation = np.polyval(quadratic_coeffs, years)\n",
        "quadratic_interpolation_even_years = np.polyval(quadratic_coeffs, years[1::2])\n",
        "\n",
        "# Interpolasi kubik\n",
        "cubic_coeffs = np.polyfit(years[::2], temperatures[::2], 3)\n",
        "cubic_interpolation = np.polyval(cubic_coeffs, years)\n",
        "cubic_interpolation_even_years = np.polyval(cubic_coeffs, years[1::2])\n",
        "\n",
        "print(\"Interpolasi Linear (suhu tahun genap):\", linear_interpolation_even_years)\n",
        "print(\"Interpolasi Kuadratik (suhu tahun genap):\", quadratic_interpolation_even_years)\n",
        "print(\"Interpolasi Kubik (suhu tahun genap):\", cubic_interpolation_even_years)\n"
      ]
    }
  ]
}