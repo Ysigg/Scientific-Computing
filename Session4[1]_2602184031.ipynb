{
  "nbformat": 4,
  "nbformat_minor": 0,
  "metadata": {
    "colab": {
      "provenance": [],
      "authorship_tag": "ABX9TyP4xLAjKAw0q5Z+m4sntf5s",
      "include_colab_link": true
    },
    "kernelspec": {
      "name": "python3",
      "display_name": "Python 3"
    },
    "language_info": {
      "name": "python"
    }
  },
  "cells": [
    {
      "cell_type": "markdown",
      "metadata": {
        "id": "view-in-github",
        "colab_type": "text"
      },
      "source": [
        "<a href=\"https://colab.research.google.com/github/Ysigg/Scientific-Computing/blob/main/Session4%5B1%5D.ipynb\" target=\"_parent\"><img src=\"https://colab.research.google.com/assets/colab-badge.svg\" alt=\"Open In Colab\"/></a>"
      ]
    },
    {
      "cell_type": "code",
      "execution_count": 2,
      "metadata": {
        "id": "X2PPJMjViVVh"
      },
      "outputs": [],
      "source": [
        "# Nama : Naufal Arif\n",
        "# LC20 - Computer Science\n",
        "\n",
        "import numpy as np\n",
        "\n",
        "def my_bisection(f, a, b, tol):\n",
        "  # aproximates a root, R, of f bounded\n",
        "  # by a and b to within tolerence\n",
        "  # | f(m) | < tol with m the midpoint\n",
        "  # between a and b Recursive implementation\n",
        "\n",
        "  # check if a and b bound a root\n",
        "  if np.sign(f(a)) == np.sign(f(b)):\n",
        "    raise Exception(\n",
        "        \"The scalars a and b do not bound a root\"\n",
        "    )\n",
        "  # get midpoint\n",
        "  m = (a + b)/2\n",
        "\n",
        "  if np.abs(f(m)) < tol:\n",
        "    # stopping condition, report m as root\n",
        "    return m\n",
        "  elif np.sign(f(a)) == np.sign(f(m)):\n",
        "    # case where m is an improvment on a.\n",
        "    # make rescursive call with a = m\n",
        "    return my_bisection(f, m, b, tol)\n",
        "  elif np.sign(f(b)) == np.sign(f(m)):\n",
        "    # case where m is an improvment on b.\n",
        "    # make rescursive call with b = m\n",
        "    return my_bisection(f, a, m, tol)"
      ]
    },
    {
      "cell_type": "code",
      "source": [
        "f = lambda x: x**2 -2\n",
        "\n",
        "r1 = my_bisection(f, 0, 2, 0.1)\n",
        "print(\"r1 =\", r1)\n",
        "r01 = my_bisection(f, 0, 2, 0.01)\n",
        "print(\"r01 =\", r01)\n",
        "\n",
        "print(\"f(r1) =\", f(r1))\n",
        "print(\"f(r01) =\", f(r01))"
      ],
      "metadata": {
        "colab": {
          "base_uri": "https://localhost:8080/"
        },
        "id": "94IjZarwjk2C",
        "outputId": "54cacda7-7486-4577-ded0-03f0d0865450"
      },
      "execution_count": 3,
      "outputs": [
        {
          "output_type": "stream",
          "name": "stdout",
          "text": [
            "r1 = 1.4375\n",
            "r01 = 1.4140625\n",
            "f(r1) = 0.06640625\n",
            "f(r01) = -0.00042724609375\n"
          ]
        }
      ]
    }
  ]
}
