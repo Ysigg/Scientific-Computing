{
  "nbformat": 4,
  "nbformat_minor": 0,
  "metadata": {
    "colab": {
      "provenance": [],
      "authorship_tag": "ABX9TyMRODlS1077PHsG/3lq/K+p",
      "include_colab_link": true
    },
    "kernelspec": {
      "name": "python3",
      "display_name": "Python 3"
    },
    "language_info": {
      "name": "python"
    }
  },
  "cells": [
    {
      "cell_type": "markdown",
      "metadata": {
        "id": "view-in-github",
        "colab_type": "text"
      },
      "source": [
        "<a href=\"https://colab.research.google.com/github/Ysigg/Scientific-Computing/blob/main/Tylor-sin.ipynb\" target=\"_parent\"><img src=\"https://colab.research.google.com/assets/colab-badge.svg\" alt=\"Open In Colab\"/></a>"
      ]
    },
    {
      "cell_type": "code",
      "execution_count": 3,
      "metadata": {
        "colab": {
          "base_uri": "https://localhost:8080/"
        },
        "id": "OnOuqClA4FX-",
        "outputId": "d3021e1d-6063-4c76-99ed-3d4251079479"
      },
      "outputs": [
        {
          "output_type": "stream",
          "name": "stdout",
          "text": [
            "The fourth order Taylor expansion of sin(0.5) is approximately: 0.479425533234127\n"
          ]
        }
      ],
      "source": [
        "import math\n",
        "\n",
        "def taylor_sin(x, n):\n",
        "    result = 0\n",
        "    sign = 1\n",
        "    for i in range(1, n+1):\n",
        "        term = sign * (x**((2*i)-1)) / math.factorial((2*i)-1)\n",
        "        result += term\n",
        "        sign *= -1\n",
        "    return result\n",
        "\n",
        "# Contoh penggunaan\n",
        "x = 0.5\n",
        "n = 4\n",
        "sin_approximation = taylor_sin(x, n)\n",
        "print(f\"The fourth order Taylor expansion of sin({x}) is approximately: {sin_approximation}\")\n"
      ]
    }
  ]
}